{
 "cells": [
  {
   "cell_type": "code",
   "execution_count": 2,
   "metadata": {},
   "outputs": [],
   "source": [
    "import numpy as np\n",
    "import matplotlib.pyplot as plt\n",
    "from scipy import integrate"
   ]
  },
  {
   "cell_type": "code",
   "execution_count": 40,
   "metadata": {},
   "outputs": [],
   "source": [
    "c = np.array((2.8, -1.5, -0.9, 1.8, 2.4, 5.6))\n",
    "\n",
    "a = 1\n",
    "b = 1.44\n",
    "\n",
    "eps = 0.0001\n",
    "\n",
    "def P(x):\n",
    "    res = 0\n",
    "    for i in range(len(c)):\n",
    "        res += c[i]*(x**i)\n",
    "    return res"
   ]
  },
  {
   "cell_type": "code",
   "execution_count": 41,
   "metadata": {},
   "outputs": [],
   "source": [
    "prob_x = np.arange(1, 1.44, 0.0001)"
   ]
  },
  {
   "cell_type": "code",
   "execution_count": 6,
   "metadata": {},
   "outputs": [],
   "source": [
    "def trape(h, n):\n",
    "    res_3 = (P(a) + P(b))/2\n",
    "    for i in range(1, n):\n",
    "        res_3 += P( a + i*h)\n",
    "    return res_3*h"
   ]
  },
  {
   "cell_type": "code",
   "execution_count": 73,
   "metadata": {},
   "outputs": [],
   "source": [
    "def sympson(h, n):\n",
    "    res_4 = P(a) + P(b)\n",
    "    for i in range(n):\n",
    "        res_4 += 4*P((a + i*h + a + (i + 1)*h)/2)\n",
    "    for i in range(1,n):\n",
    "        res_4 += 2*P(a + i*h)\n",
    "    return res_4*h/6"
   ]
  },
  {
   "cell_type": "code",
   "execution_count": 11,
   "metadata": {},
   "outputs": [],
   "source": [
    "def dP2(x):\n",
    "    return 112*x**3 + 28.8*x**2 + 10.8*x - 1.8\n",
    "def dP4(x):\n",
    "    return 336*x + 57.6"
   ]
  },
  {
   "cell_type": "code",
   "execution_count": 13,
   "metadata": {},
   "outputs": [],
   "source": [
    "def M(k):\n",
    "    if k == 2:\n",
    "        return max(abs(dP2(prob_x)))\n",
    "    elif k == 4:\n",
    "        return max(abs(dP4(prob_x)))"
   ]
  },
  {
   "cell_type": "code",
   "execution_count": 39,
   "metadata": {},
   "outputs": [
    {
     "name": "stdout",
     "output_type": "stream",
     "text": [
      "(11.196316333124264, 1.2430408184021262e-13)\n"
     ]
    }
   ],
   "source": [
    "func = lambda x : 2.8 - 1.5*x - 0.9*x**2 + 1.8*x**3 + 2.4*x**4 + 5.6*x**5\n",
    "print(integrate.quad(func, 1, 1.44)) #1 элемент кортежа - оценочное значение интеграла, 2 - верхняя граница интеграла"
   ]
  },
  {
   "cell_type": "code",
   "execution_count": 34,
   "metadata": {},
   "outputs": [
    {
     "name": "stdout",
     "output_type": "stream",
     "text": [
      "Формула трапеции: 8.567199491276797\n",
      "Абсолютная погрешность: 2.6291005087232033\n"
     ]
    }
   ],
   "source": [
    "I = (P(b) - P(a))*((b - a)/2) #формула трапеции\n",
    "print(\"Формула трапеции:\", I)\n",
    "print(\"Абсолютная погрешность:\", abs(11.1963 - I))"
   ]
  },
  {
   "cell_type": "code",
   "execution_count": 37,
   "metadata": {},
   "outputs": [
    {
     "name": "stdout",
     "output_type": "stream",
     "text": [
      "Формула Симпсона: 11.201340780748795\n",
      "Абсолютная погрешность: 0.00504078074879466\n"
     ]
    }
   ],
   "source": [
    "I2 = (P(a) + 4*P((a+b)/2) + P(b))*(b - a)/6\n",
    "print(\"Формула Симпсона:\", I2)\n",
    "print(\"Абсолютная погрешность:\", abs(11.1963 - I2))"
   ]
  },
  {
   "cell_type": "code",
   "execution_count": 64,
   "metadata": {},
   "outputs": [],
   "source": [
    "prob_x = np.arange(1, 1.44, 0.0001)"
   ]
  },
  {
   "cell_type": "code",
   "execution_count": 65,
   "metadata": {},
   "outputs": [],
   "source": [
    "def dP2(x):\n",
    "    return 112*x**3 + 28.8*x**2 + 10.8*x - 1.8\n",
    "def dP4(x):\n",
    "    return 336*x + 57.6"
   ]
  },
  {
   "cell_type": "code",
   "execution_count": 66,
   "metadata": {},
   "outputs": [],
   "source": [
    "def M(k):\n",
    "    if k == 2:\n",
    "        return max(abs(dP2(prob_x)))\n",
    "    elif k == 4:\n",
    "        return max(abs(dP4(prob_x)))"
   ]
  },
  {
   "cell_type": "code",
   "execution_count": 69,
   "metadata": {},
   "outputs": [
    {
     "name": "stdout",
     "output_type": "stream",
     "text": [
      "Шаги для формулы трапеции: 171\n",
      "шаг составной формулы трапеции 0.002573099415204678\n",
      "Результат: 11.196380591537496\n",
      "Погрешность: 8.05915374950672e-05\n"
     ]
    }
   ],
   "source": [
    "h2 = np.sqrt((12*eps)/ (M(2)*(b - a)))\n",
    "n2 = int((b - a)/h2 + 1)\n",
    "print(\"Шаги для формулы трапеции:\", n2)\n",
    "h2 = (b - a)/n2\n",
    "print(\"шаг составной формулы трапеции\", h2)\n",
    "S = trape(h2, n2)\n",
    "print(\"Результат:\", S)\n",
    "print(\"Погрешность:\", abs(S - 11.1963))"
   ]
  },
  {
   "cell_type": "code",
   "execution_count": 75,
   "metadata": {},
   "outputs": [
    {
     "name": "stdout",
     "output_type": "stream",
     "text": [
      "Шаги для составной формулы Симпсона: 3\n",
      "Шаг составной формулы Симпсона: 0.14666666666666664\n",
      "Результат: 11.196378363341845\n",
      "Погрешность: 7.836334184396776e-05\n"
     ]
    }
   ],
   "source": [
    "h4 = ((2880*eps)/(M(4)*(b - a)))**(1/4)\n",
    "n4 = int((b - a)/h4 + 1)\n",
    "print(\"Шаги для составной формулы Симпсона:\", n4)\n",
    "h4 = (b - a)/ n4\n",
    "print(\"Шаг составной формулы Симпсона:\", h4)\n",
    "S = sympson(h4, n4)\n",
    "print(\"Результат:\", S)\n",
    "print(\"Погрешность:\", abs(S - 11.1963))"
   ]
  },
  {
   "cell_type": "code",
   "execution_count": 18,
   "metadata": {},
   "outputs": [],
   "source": [
    "a = -1.7\n",
    "b = 0 \n",
    "\n",
    "def f(x):\n",
    "    return (np.cos(x) - x)*np.exp(x**2)\n",
    "prob_x = np.arange(-1.7, 0, 0.01)\n",
    "\n",
    "def M(k):\n",
    "    return max(abs(d2f(prob_x)))\n",
    "def d2f(x):\n",
    "    return -(2*x**2 + np.sin(x) + 1 - 2*x*np.cos(x))*np.exp(x**2)"
   ]
  },
  {
   "cell_type": "code",
   "execution_count": 10,
   "metadata": {},
   "outputs": [
    {
     "name": "stdout",
     "output_type": "stream",
     "text": [
      "(10.24177624876237, 1.137065580443505e-13)\n"
     ]
    }
   ],
   "source": [
    "func = lambda x : (np.cos(x) - x)*np.exp(x**2)\n",
    "print(integrate.quad(func, -1.7, 0)) #1 элемент кортежа - оценочное значение интеграла, 2 - верхняя граница интеграла"
   ]
  },
  {
   "cell_type": "code",
   "execution_count": 20,
   "metadata": {},
   "outputs": [],
   "source": [
    "h = np.zeros(19)\n",
    "res = np.zeros(19)\n",
    "R = np.zeros(19)\n",
    "R1 = np.zeros(19)\n",
    "\n",
    "for i in range(2, 21):\n",
    "    h[i-2] = (b - a)/i\n",
    "    for j in range(i):\n",
    "        res[i - 2] += h[i-2]*f((a + j*h[i-2] + a + (j+1)*h[i-2])/2)\n",
    "    R[i-2] = abs(10.2417 - res[i-2])\n",
    "    R1[i-2] = M(2)*(b-a)*h[i-2]/12"
   ]
  },
  {
   "cell_type": "code",
   "execution_count": 12,
   "metadata": {},
   "outputs": [],
   "source": [
    "def df2(x): #производная\n",
    "    return -(2*x**2 + np.sin(x) + 1 - 2*x*np.cos(x))*np.exp(x**2)"
   ]
  },
  {
   "cell_type": "code",
   "execution_count": 13,
   "metadata": {},
   "outputs": [],
   "source": [
    "def M(k):\n",
    "    return max(abs(d2f(prob_x)))"
   ]
  },
  {
   "cell_type": "code",
   "execution_count": 21,
   "metadata": {},
   "outputs": [
    {
     "name": "stdout",
     "output_type": "stream",
     "text": [
      "Шаги [0.85       0.56666667 0.425      0.34       0.28333333 0.24285714\n",
      " 0.2125     0.18888889 0.17       0.15454545 0.14166667 0.13076923\n",
      " 0.12142857 0.11333333 0.10625    0.1        0.09444444 0.08947368\n",
      " 0.085     ]\n"
     ]
    }
   ],
   "source": [
    "print(\"Шаги\", h)"
   ]
  },
  {
   "cell_type": "code",
   "execution_count": 22,
   "metadata": {},
   "outputs": [
    {
     "name": "stdout",
     "output_type": "stream",
     "text": [
      "Результат [ 8.12672625  9.14621251  9.58600035  9.80896457  9.93596048 10.0146854\n",
      " 10.06668525 10.10275931 10.12877818 10.1481464  10.16294495 10.17450232\n",
      " 10.1836982  10.19113346 10.19722968 10.2022896  10.20653514 10.21013191\n",
      " 10.2132055 ]\n"
     ]
    }
   ],
   "source": [
    "print(\"Результат\", res)"
   ]
  },
  {
   "cell_type": "code",
   "execution_count": 23,
   "metadata": {},
   "outputs": [
    {
     "name": "stdout",
     "output_type": "stream",
     "text": [
      "Абсолютная погрешность [2.11497375 1.09548749 0.65569965 0.43273543 0.30573952 0.2270146\n",
      " 0.17501475 0.13894069 0.11292182 0.0935536  0.07875505 0.06719768\n",
      " 0.0580018  0.05056654 0.04447032 0.0394104  0.03516486 0.03156809\n",
      " 0.0284945 ]\n"
     ]
    }
   ],
   "source": [
    "print(\"Абсолютная погрешность\", R )"
   ]
  },
  {
   "cell_type": "code",
   "execution_count": 24,
   "metadata": {},
   "outputs": [
    {
     "name": "stdout",
     "output_type": "stream",
     "text": [
      "Оценки теоретической погрешности [11.59238666  7.72825777  5.79619333  4.63695466  3.86412889  3.31211047\n",
      "  2.89809667  2.57608592  2.31847733  2.10770667  1.93206444  1.7834441\n",
      "  1.65605524  1.54565155  1.44904833  1.3638102   1.28804296  1.22025123\n",
      "  1.15923867]\n"
     ]
    }
   ],
   "source": [
    "print(\"Оценки теоретической погрешности\", R1)"
   ]
  },
  {
   "cell_type": "code",
   "execution_count": 41,
   "metadata": {},
   "outputs": [
    {
     "data": {
      "image/png": "[encoded data removed]",
      "text/plain": [
       "<Figure size 432x288 with 1 Axes>"
      ]
     },
     "metadata": {},
     "output_type": "display_data"
    }
   ],
   "source": [
    "Y = np.arange(2, 21)\n",
    "fig, ax = plt.subplots()\n",
    "ax.bar(Y,R)\n",
    "ax.set_title('Абсолютная погрешность')\n",
    "plt.show()"
   ]
  },
  {
   "cell_type": "code",
   "execution_count": 43,
   "metadata": {},
   "outputs": [
    {
     "data": {
      "image/png": "[encoded data removed]",
      "text/plain": [
       "<Figure size 432x288 with 1 Axes>"
      ]
     },
     "metadata": {},
     "output_type": "display_data"
    }
   ],
   "source": [
    "Y = np.arange(2, 21)\n",
    "fig, ax = plt.subplots()\n",
    "ax.bar(Y,R1)\n",
    "ax.set_title('Относительная погрешность')\n",
    "plt.show()"
   ]
  },
  {
   "cell_type": "code",
   "execution_count": null,
   "metadata": {},
   "outputs": [],
   "source": []
  }
 ],
 "metadata": {
  "kernelspec": {
   "display_name": "Python 3",
   "language": "python",
   "name": "python3"
  },
  "language_info": {
   "codemirror_mode": {
    "name": "ipython",
    "version": 3
   },
   "file_extension": ".py",
   "mimetype": "text/x-python",
   "name": "python",
   "nbconvert_exporter": "python",
   "pygments_lexer": "ipython3",
   "version": "3.6.7"
  }
 },
 "nbformat": 4,
 "nbformat_minor": 2
}
